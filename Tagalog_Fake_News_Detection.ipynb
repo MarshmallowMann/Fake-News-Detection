{
  "nbformat": 4,
  "nbformat_minor": 0,
  "metadata": {
    "colab": {
      "name": "Tagalog Fake News Detection",
      "provenance": [],
      "toc_visible": true,
      "authorship_tag": "ABX9TyMw+F3Awk8Jpc5kj73bthh8",
      "include_colab_link": true
    },
    "kernelspec": {
      "name": "python3",
      "display_name": "Python 3"
    }
  },
  "cells": [
    {
      "cell_type": "markdown",
      "metadata": {
        "id": "view-in-github",
        "colab_type": "text"
      },
      "source": [
        "<a href=\"https://colab.research.google.com/github/MarshmallowMann/Fake-News-Detection/blob/master/Tagalog_Fake_News_Detection.ipynb\" target=\"_parent\"><img src=\"https://colab.research.google.com/assets/colab-badge.svg\" alt=\"Open In Colab\"/></a>"
      ]
    },
    {
      "cell_type": "markdown",
      "metadata": {
        "id": "RE_Tbbpk9F7x",
        "colab_type": "text"
      },
      "source": [
        "# Using Natural Language Processing for Tagalog Fake News Detection\n",
        "The purpose of this study is to train and apply a machine learning model for the detection of fake Filipino news articles on the internet. This study also aims to test accuracy of the trained machine learning model in differentiating real and fake news.\n",
        "\n",
        "---\n",
        "\n",
        "\n",
        "**Objectives:**\n",
        "1.\tTo test the classification model’s performance in terms of: \n",
        "\n",
        "  a.\taccuracy, \n",
        "\n",
        "  b.\trecall, and \n",
        "\n",
        "  c.\tf1 score.\n",
        "2.\tTo determine the words that have a high frequency of occurring on Filipino\n",
        "fake news and real news.\n",
        "3.\tTo determine the viability of the machine learning model for and development. (Accuracy > 90%)\n",
        "\n",
        "**Research Questions**\n",
        "\n",
        "Is there a significant difference between the classification model's predictions and actual (test) values?\n",
        "\n",
        "*Sub-questions:*\n",
        "1.\tIs there a significant difference in the accuracy metrics for the train and test dataset? \n",
        "2.\tHow does the classification model perform in terms of accuracy, recall, accuracy, and f1 score? \n",
        "3.\tWhich words have the highest frequencies in fake Filipino news?\n",
        "4.\tWhich words have the highest frequencies in occurring sarcastic headlines?\n",
        "\n",
        "\n",
        "**Multinomial Naive Bayes Approach**\n",
        "\n",
        "$$P (Fake\\,News \\, | \\, X) \\, > \\, P(Real \\, News \\, | \\, X)$$\n",
        "<br>\n",
        "<center><b>OR</b></center>\n",
        "<br>\n",
        "$$P (Fake\\,News \\, | \\, X) \\, < \\, P(Real \\, News \\, | \\, X)$$\n",
        "\n"
      ]
    },
    {
      "cell_type": "markdown",
      "metadata": {
        "id": "5XbdpO0E_qVd",
        "colab_type": "text"
      },
      "source": [
        "# Imports"
      ]
    },
    {
      "cell_type": "code",
      "metadata": {
        "id": "CDtmHP7a859i",
        "colab_type": "code",
        "colab": {
          "base_uri": "https://localhost:8080/",
          "height": 53
        },
        "outputId": "7131ec64-3e2d-411c-a71a-500c1b279fe5"
      },
      "source": [
        "import numpy as np\n",
        "import pandas as pd\n",
        "import matplotlib.pyplot as plt\n",
        "import seaborn as sns\n",
        "\n",
        "from sklearn.feature_extraction.text import CountVectorizer\n",
        "from sklearn.model_selection import train_test_split\n",
        "from sklearn.naive_bayes import MultinomialNB\n",
        "from sklearn.feature_extraction import text\n",
        "from sklearn.metrics import recall_score, precision_score, f1_score\n",
        "from sklearn.ensemble import AdaBoostClassifier\n",
        "from sklearn.linear_model import LogisticRegression\n",
        "from sklearn.model_selection import cross_val_score\n",
        "from sklearn.metrics import classification_report\n",
        "from sklearn.metrics import confusion_matrix\n",
        "from sklearn.metrics import ConfusionMatrixDisplay\n",
        "from sklearn.metrics import precision_recall_curve\n",
        "from sklearn.metrics import plot_precision_recall_curve\n"
      ],
      "execution_count": 99,
      "outputs": [
        {
          "output_type": "stream",
          "text": [
            "/usr/local/lib/python3.6/dist-packages/statsmodels/tools/_testing.py:19: FutureWarning: pandas.util.testing is deprecated. Use the functions in the public API at pandas.testing instead.\n",
            "  import pandas.util.testing as tm\n"
          ],
          "name": "stderr"
        }
      ]
    },
    {
      "cell_type": "markdown",
      "metadata": {
        "id": "DWXYSEpJCeI-",
        "colab_type": "text"
      },
      "source": [
        "# Data Preprocessing"
      ]
    },
    {
      "cell_type": "markdown",
      "metadata": {
        "id": "bqycoX8JFtWG",
        "colab_type": "text"
      },
      "source": [
        "## File Imports\n",
        "\n",
        "*from [Low-Resource Fake News Detection Corpora in Filipino\n",
        "](https://github.com/jcblaisecruz02/Tagalog-fake-news)*"
      ]
    },
    {
      "cell_type": "code",
      "metadata": {
        "id": "aHxED0rt_xyp",
        "colab_type": "code",
        "colab": {
          "base_uri": "https://localhost:8080/",
          "height": 419
        },
        "outputId": "203b9604-f8e4-423b-d485-14c4b215c2dc"
      },
      "source": [
        "DATA_CSV_FILE = 'https://raw.githubusercontent.com/MarshmallowMann/Fake-News-Detection/master/fakenews/full.csv'\n",
        "data = pd.read_csv(DATA_CSV_FILE)\n",
        "data"
      ],
      "execution_count": null,
      "outputs": [
        {
          "output_type": "execute_result",
          "data": {
            "text/html": [
              "<div>\n",
              "<style scoped>\n",
              "    .dataframe tbody tr th:only-of-type {\n",
              "        vertical-align: middle;\n",
              "    }\n",
              "\n",
              "    .dataframe tbody tr th {\n",
              "        vertical-align: top;\n",
              "    }\n",
              "\n",
              "    .dataframe thead th {\n",
              "        text-align: right;\n",
              "    }\n",
              "</style>\n",
              "<table border=\"1\" class=\"dataframe\">\n",
              "  <thead>\n",
              "    <tr style=\"text-align: right;\">\n",
              "      <th></th>\n",
              "      <th>label</th>\n",
              "      <th>article</th>\n",
              "    </tr>\n",
              "  </thead>\n",
              "  <tbody>\n",
              "    <tr>\n",
              "      <th>0</th>\n",
              "      <td>0</td>\n",
              "      <td>Ayon sa TheWrap.com, naghain ng kaso si Krupa,...</td>\n",
              "    </tr>\n",
              "    <tr>\n",
              "      <th>1</th>\n",
              "      <td>0</td>\n",
              "      <td>Kilala rin ang singer sa pagkumpas ng kanyang ...</td>\n",
              "    </tr>\n",
              "    <tr>\n",
              "      <th>2</th>\n",
              "      <td>0</td>\n",
              "      <td>BLANTYRE, Malawi (AP) -- Bumiyahe patungong Ma...</td>\n",
              "    </tr>\n",
              "    <tr>\n",
              "      <th>3</th>\n",
              "      <td>0</td>\n",
              "      <td>Kasama sa programa ang pananalangin, bulaklak ...</td>\n",
              "    </tr>\n",
              "    <tr>\n",
              "      <th>4</th>\n",
              "      <td>0</td>\n",
              "      <td>Linisin ang Friendship Department dahil dadala...</td>\n",
              "    </tr>\n",
              "    <tr>\n",
              "      <th>...</th>\n",
              "      <td>...</td>\n",
              "      <td>...</td>\n",
              "    </tr>\n",
              "    <tr>\n",
              "      <th>3201</th>\n",
              "      <td>1</td>\n",
              "      <td>Hindi pa nai-enjoy ni Giacomo Filibeck ang Pil...</td>\n",
              "    </tr>\n",
              "    <tr>\n",
              "      <th>3202</th>\n",
              "      <td>1</td>\n",
              "      <td>Sa isang pahayag, binatikos ng Liberal Party (...</td>\n",
              "    </tr>\n",
              "    <tr>\n",
              "      <th>3203</th>\n",
              "      <td>1</td>\n",
              "      <td>Panoorin nyo yung reaction video na ito ni Mr....</td>\n",
              "    </tr>\n",
              "    <tr>\n",
              "      <th>3204</th>\n",
              "      <td>1</td>\n",
              "      <td>Para sa mga magkakapatid na laging nagtatalo l...</td>\n",
              "    </tr>\n",
              "    <tr>\n",
              "      <th>3205</th>\n",
              "      <td>1</td>\n",
              "      <td>Grabe ibang klase talaga si Vice Ganda kung ma...</td>\n",
              "    </tr>\n",
              "  </tbody>\n",
              "</table>\n",
              "<p>3206 rows × 2 columns</p>\n",
              "</div>"
            ],
            "text/plain": [
              "      label                                            article\n",
              "0         0  Ayon sa TheWrap.com, naghain ng kaso si Krupa,...\n",
              "1         0  Kilala rin ang singer sa pagkumpas ng kanyang ...\n",
              "2         0  BLANTYRE, Malawi (AP) -- Bumiyahe patungong Ma...\n",
              "3         0  Kasama sa programa ang pananalangin, bulaklak ...\n",
              "4         0  Linisin ang Friendship Department dahil dadala...\n",
              "...     ...                                                ...\n",
              "3201      1  Hindi pa nai-enjoy ni Giacomo Filibeck ang Pil...\n",
              "3202      1  Sa isang pahayag, binatikos ng Liberal Party (...\n",
              "3203      1  Panoorin nyo yung reaction video na ito ni Mr....\n",
              "3204      1  Para sa mga magkakapatid na laging nagtatalo l...\n",
              "3205      1  Grabe ibang klase talaga si Vice Ganda kung ma...\n",
              "\n",
              "[3206 rows x 2 columns]"
            ]
          },
          "metadata": {
            "tags": []
          },
          "execution_count": 15
        }
      ]
    },
    {
      "cell_type": "code",
      "metadata": {
        "id": "GbiLX8YgE3_s",
        "colab_type": "code",
        "colab": {
          "base_uri": "https://localhost:8080/",
          "height": 35
        },
        "outputId": "1b97d4b5-2ae6-4cdb-a061-a8249b8b7a18"
      },
      "source": [
        "sum(data.label == 0) # Real News"
      ],
      "execution_count": null,
      "outputs": [
        {
          "output_type": "execute_result",
          "data": {
            "text/plain": [
              "1603"
            ]
          },
          "metadata": {
            "tags": []
          },
          "execution_count": 16
        }
      ]
    },
    {
      "cell_type": "code",
      "metadata": {
        "id": "kAXw2kzxFGw5",
        "colab_type": "code",
        "colab": {
          "base_uri": "https://localhost:8080/",
          "height": 35
        },
        "outputId": "4eb19d36-be0f-47a7-8bab-0c9468599325"
      },
      "source": [
        "sum(data.label == 1) # Fake News"
      ],
      "execution_count": null,
      "outputs": [
        {
          "output_type": "execute_result",
          "data": {
            "text/plain": [
              "1603"
            ]
          },
          "metadata": {
            "tags": []
          },
          "execution_count": 17
        }
      ]
    },
    {
      "cell_type": "markdown",
      "metadata": {
        "id": "CidKHNAVGBa_",
        "colab_type": "text"
      },
      "source": [
        "## Stopwords Dictionary\n",
        "\n",
        "*from [Tagalog Stopwords (TL)](https://github.com/stopwords-iso/stopwords-tl)*\n"
      ]
    },
    {
      "cell_type": "code",
      "metadata": {
        "id": "6htmqWeVFM0U",
        "colab_type": "code",
        "colab": {}
      },
      "source": [
        "texts = [\"akin\",\"aking\",\"ako\",\"alin\",\"am\",\"amin\",\"aming\",\"ang\",\"ano\",\"anumang\",\"apat\",\"at\",\"atin\",\"ating\",\"ay\",\"bababa\",\"bago\",\"bakit\",\"bawat\",\"bilang\",\"dahil\",\"dalawa\",\"dapat\",\"din\",\"dito\",\"doon\",\"gagawin\",\"gayunman\",\"ginagawa\",\"ginawa\",\"ginawang\",\"gumawa\",\"gusto\",\"habang\",\"hanggang\",\"hindi\",\"huwag\",\"iba\",\"ibaba\",\"ibabaw\",\"ibig\",\"ikaw\",\"ilagay\",\"ilalim\",\"ilan\",\"inyong\",\"isa\",\"isang\",\"itaas\",\"ito\",\"iyo\",\"iyon\",\"iyong\",\"ka\",\"kahit\",\"kailangan\",\"kailanman\",\"kami\",\"kanila\",\"kanilang\",\"kanino\",\"kanya\",\"kanyang\",\"kapag\",\"kapwa\",\"karamihan\",\"katiyakan\",\"katulad\",\"kaya\",\"kaysa\",\"ko\",\"kong\",\"kulang\",\"kumuha\",\"kung\",\"laban\",\"lahat\",\"lamang\",\"likod\",\"lima\",\"maaari\",\"maaaring\",\"maging\",\"mahusay\",\"makita\",\"marami\",\"marapat\",\"masyado\",\"may\",\"mayroon\",\"mga\",\"minsan\",\"mismo\",\"mula\",\"muli\",\"na\",\"nabanggit\",\"naging\",\"nagkaroon\",\"nais\",\"nakita\",\"namin\",\"napaka\",\"narito\",\"nasaan\",\"ng\",\"ngayon\",\"ni\",\"nila\",\"nilang\",\"nito\",\"niya\",\"niyang\",\"noon\",\"o\",\"pa\",\"paano\",\"pababa\",\"paggawa\",\"pagitan\",\"pagkakaroon\",\"pagkatapos\",\"palabas\",\"pamamagitan\",\"panahon\",\"pangalawa\",\"para\",\"paraan\",\"pareho\",\"pataas\",\"pero\",\"pumunta\",\"pumupunta\",\"sa\",\"saan\",\"sabi\",\"sabihin\",\"sarili\",\"sila\",\"sino\",\"siya\",\"tatlo\",\"tayo\",\"tulad\",\"tungkol\",\"una\",\"walang\"]\n",
        "\n",
        "text = text.ENGLISH_STOP_WORDS.union(texts)"
      ],
      "execution_count": 19,
      "outputs": []
    },
    {
      "cell_type": "code",
      "metadata": {
        "id": "lArJuXewFSqH",
        "colab_type": "code",
        "colab": {}
      },
      "source": [
        "text # A complete list of stopwords"
      ],
      "execution_count": null,
      "outputs": []
    },
    {
      "cell_type": "markdown",
      "metadata": {
        "id": "dwBsiigdHuwO",
        "colab_type": "text"
      },
      "source": [
        "## Vectorization\n",
        "\n",
        "Using SK-Learn's Word Vectorizer"
      ]
    },
    {
      "cell_type": "code",
      "metadata": {
        "id": "jf4wU4xiHKvg",
        "colab_type": "code",
        "colab": {
          "base_uri": "https://localhost:8080/",
          "height": 35
        },
        "outputId": "a448bc1a-b85f-4ca7-ae5b-4ab13dfc8882"
      },
      "source": [
        "vectorizer = CountVectorizer(stop_words=text)\n",
        "all_features = vectorizer.fit_transform(data.article)\n",
        "all_features.shape"
      ],
      "execution_count": 23,
      "outputs": [
        {
          "output_type": "execute_result",
          "data": {
            "text/plain": [
              "(3206, 38639)"
            ]
          },
          "metadata": {
            "tags": []
          },
          "execution_count": 23
        }
      ]
    },
    {
      "cell_type": "code",
      "metadata": {
        "id": "Indzw2-cJJND",
        "colab_type": "code",
        "colab": {}
      },
      "source": [
        "sorted(vectorizer.vocabulary_.items(), key=lambda x: x[1], reverse=True)"
      ],
      "execution_count": null,
      "outputs": []
    },
    {
      "cell_type": "code",
      "metadata": {
        "id": "In8MpN98Jz19",
        "colab_type": "code",
        "colab": {
          "base_uri": "https://localhost:8080/",
          "height": 53
        },
        "outputId": "8bc33ff6-bd24-4494-ea9b-42b4dd7dd6db"
      },
      "source": [
        "all_features"
      ],
      "execution_count": 30,
      "outputs": [
        {
          "output_type": "execute_result",
          "data": {
            "text/plain": [
              "<3206x38639 sparse matrix of type '<class 'numpy.int64'>'\n",
              "\twith 263918 stored elements in Compressed Sparse Row format>"
            ]
          },
          "metadata": {
            "tags": []
          },
          "execution_count": 30
        }
      ]
    },
    {
      "cell_type": "markdown",
      "metadata": {
        "id": "BZGVJ-bqKxVf",
        "colab_type": "text"
      },
      "source": [
        "# Training"
      ]
    },
    {
      "cell_type": "markdown",
      "metadata": {
        "id": "xfAAmpftLaar",
        "colab_type": "text"
      },
      "source": [
        "## Train Test Split - 30% Test Size"
      ]
    },
    {
      "cell_type": "code",
      "metadata": {
        "id": "4hQzczdwK0L_",
        "colab_type": "code",
        "colab": {}
      },
      "source": [
        "X_train, X_test, y_train, y_test = train_test_split(all_features, data.label, test_size=0.3, random_state = 88)"
      ],
      "execution_count": 127,
      "outputs": []
    },
    {
      "cell_type": "code",
      "metadata": {
        "id": "kUAsn_3XK3KY",
        "colab_type": "code",
        "colab": {
          "base_uri": "https://localhost:8080/",
          "height": 35
        },
        "outputId": "94db62cc-c636-4ae6-e2bf-e30980381fe8"
      },
      "source": [
        "print(\"Training Set:\",X_train.shape, y_test.shape,\"Testing Set:\", X_test.shape, y_test.shape)"
      ],
      "execution_count": 37,
      "outputs": [
        {
          "output_type": "stream",
          "text": [
            "Training Set: (2244, 38639) (962,) Testing Set: (962, 38639) (962,)\n"
          ],
          "name": "stdout"
        }
      ]
    },
    {
      "cell_type": "markdown",
      "metadata": {
        "id": "q8W0KEOPL8L7",
        "colab_type": "text"
      },
      "source": [
        "## Model Training\n",
        "\n",
        "1st Model: Multinomial NB"
      ]
    },
    {
      "cell_type": "code",
      "metadata": {
        "id": "aVXbK7cbLepl",
        "colab_type": "code",
        "colab": {
          "base_uri": "https://localhost:8080/",
          "height": 35
        },
        "outputId": "b95d2523-6af7-46a3-8934-f2f206311159"
      },
      "source": [
        "classifier = MultinomialNB()\n",
        "classifier.fit(X_train,y_train)"
      ],
      "execution_count": 68,
      "outputs": [
        {
          "output_type": "execute_result",
          "data": {
            "text/plain": [
              "MultinomialNB(alpha=1.0, class_prior=None, fit_prior=True)"
            ]
          },
          "metadata": {
            "tags": []
          },
          "execution_count": 68
        }
      ]
    },
    {
      "cell_type": "markdown",
      "metadata": {
        "id": "zqc9W_pPNtBh",
        "colab_type": "text"
      },
      "source": [
        "# Testing and Scoring\n",
        "Summary of Scores for Multinomial Naive Bayes model:\n",
        "\n",
        "Test-Scores were:\n",
        "\n",
        "1. Accuracy: 93%\n",
        "2. Precision: 93%\n",
        "3. Recall: 93%\n",
        "4. F1-score: 93%\n",
        "\n",
        "5 Fold Cross-Validated Accuracy: 0.94 (+/- 0.02)\n",
        "\n",
        "\n",
        "\n",
        "---\n",
        "\n",
        "# Graphs and Tables\n",
        "\n",
        "\n",
        "![image.png](data:image/png;base64,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)\n",
        "\n",
        "![image.png](data:image/png;base64,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)\n",
        "\n",
        "\n",
        "\n"
      ]
    },
    {
      "cell_type": "code",
      "metadata": {
        "id": "Z14jX0fzNpN5",
        "colab_type": "code",
        "colab": {
          "base_uri": "https://localhost:8080/",
          "height": 35
        },
        "outputId": "3cd4f883-de6e-4fba-c30e-367b9be6fd5d"
      },
      "source": [
        "print(f\"Accuracy: {classifier.score(X_test, y_test):.2%}\")"
      ],
      "execution_count": 69,
      "outputs": [
        {
          "output_type": "stream",
          "text": [
            "Accuracy: 93.24%\n"
          ],
          "name": "stdout"
        }
      ]
    },
    {
      "cell_type": "code",
      "metadata": {
        "id": "_yVICqGiLgiQ",
        "colab_type": "code",
        "colab": {
          "base_uri": "https://localhost:8080/",
          "height": 341
        },
        "outputId": "7cda5923-a7c0-4f22-df03-77e105084671"
      },
      "source": [
        "print(classification_report(y_test, classifier.predict(X_test), target_names=[\"Real News\", \"Fake News\"])) # Test Set\n",
        "print(classification_report(y_train, classifier.predict(X_train), target_names=[\"Real News\", \"Fake News\"])) # Train"
      ],
      "execution_count": 70,
      "outputs": [
        {
          "output_type": "stream",
          "text": [
            "              precision    recall  f1-score   support\n",
            "\n",
            "   Real News       0.95      0.92      0.93       487\n",
            "   Fake News       0.92      0.95      0.93       475\n",
            "\n",
            "    accuracy                           0.93       962\n",
            "   macro avg       0.93      0.93      0.93       962\n",
            "weighted avg       0.93      0.93      0.93       962\n",
            "\n",
            "              precision    recall  f1-score   support\n",
            "\n",
            "   Real News       0.99      0.98      0.99      1116\n",
            "   Fake News       0.98      0.99      0.99      1128\n",
            "\n",
            "    accuracy                           0.99      2244\n",
            "   macro avg       0.99      0.99      0.99      2244\n",
            "weighted avg       0.99      0.99      0.99      2244\n",
            "\n"
          ],
          "name": "stdout"
        }
      ]
    },
    {
      "cell_type": "code",
      "metadata": {
        "id": "oSyWbG1PScyS",
        "colab_type": "code",
        "colab": {
          "base_uri": "https://localhost:8080/",
          "height": 313
        },
        "outputId": "eb43bd69-7c35-4a61-94ed-82a1b233d4c4"
      },
      "source": [
        "cm = confusion_matrix(y_test, classifier.predict(X_test))\n",
        "\n",
        "cm_display = ConfusionMatrixDisplay(cm, display_labels=[\"Real News\", \"Fake News\"],).plot(values_format = '.0f')\n",
        "plt.title(\"Confusion Matrix\")"
      ],
      "execution_count": 71,
      "outputs": [
        {
          "output_type": "execute_result",
          "data": {
            "text/plain": [
              "Text(0.5, 1.0, 'Confusion Matrix')"
            ]
          },
          "metadata": {
            "tags": []
          },
          "execution_count": 71
        },
        {
          "output_type": "display_data",
          "data": {
            "image/png": "[encoded data removed]",
            "text/plain": [
              "<Figure size 432x288 with 2 Axes>"
            ]
          },
          "metadata": {
            "tags": [],
            "needs_background": "light"
          }
        }
      ]
    },
    {
      "cell_type": "code",
      "metadata": {
        "id": "6PMQla4QTPPR",
        "colab_type": "code",
        "colab": {
          "base_uri": "https://localhost:8080/",
          "height": 313
        },
        "outputId": "cd6ac6df-cbb2-4242-a2e4-e5cb331a8633"
      },
      "source": [
        "disp = plot_precision_recall_curve(classifier, X_test, y_test)\n",
        "disp.ax_.set_title('2-class Precision-Recall curve: '\n",
        "                   'AP={0:0.2f}'.format(0.97))"
      ],
      "execution_count": 73,
      "outputs": [
        {
          "output_type": "execute_result",
          "data": {
            "text/plain": [
              "Text(0.5, 1.0, '2-class Precision-Recall curve: AP=0.97')"
            ]
          },
          "metadata": {
            "tags": []
          },
          "execution_count": 73
        },
        {
          "output_type": "display_data",
          "data": {
            "image/png": "[encoded data removed]",
            "text/plain": [
              "<Figure size 432x288 with 1 Axes>"
            ]
          },
          "metadata": {
            "tags": [],
            "needs_background": "light"
          }
        }
      ]
    },
    {
      "cell_type": "code",
      "metadata": {
        "id": "aBqiQCB4VFlI",
        "colab_type": "code",
        "colab": {}
      },
      "source": [
        "X_train, X_test, y_train, y_test = train_test_split(all_features, data.label, test_size=0.00001, random_state = 88)\n",
        "scores = cross_val_score(classifier, X_train, y_train, cv=5)"
      ],
      "execution_count": 135,
      "outputs": []
    },
    {
      "cell_type": "code",
      "metadata": {
        "id": "vb-lOIKJgE8I",
        "colab_type": "code",
        "colab": {
          "base_uri": "https://localhost:8080/",
          "height": 35
        },
        "outputId": "35497745-952b-4653-9dd3-2c2abcc3e85e"
      },
      "source": [
        "print(\"5 Fold Cross-Validated Accuracy: %0.2f (+/- %0.2f)\" % (scores.mean(), scores.std() * 2))"
      ],
      "execution_count": 139,
      "outputs": [
        {
          "output_type": "stream",
          "text": [
            "5 Fold Cross-Validated Accuracy: 0.94 (+/- 0.02)\n"
          ],
          "name": "stdout"
        }
      ]
    }
  ]
}