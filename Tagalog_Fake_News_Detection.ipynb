{
  "nbformat": 4,
  "nbformat_minor": 0,
  "metadata": {
    "colab": {
      "name": "Tagalog Fake News Detection",
      "provenance": [],
      "authorship_tag": "ABX9TyOaE99kLT3y8V0HWWZjAzhd",
      "include_colab_link": true
    },
    "kernelspec": {
      "name": "python3",
      "display_name": "Python 3"
    }
  },
  "cells": [
    {
      "cell_type": "markdown",
      "metadata": {
        "id": "view-in-github",
        "colab_type": "text"
      },
      "source": [
        "<a href=\"https://colab.research.google.com/github/MarshmallowMann/Fake-News-Detection/blob/master/Tagalog_Fake_News_Detection.ipynb\" target=\"_parent\"><img src=\"https://colab.research.google.com/assets/colab-badge.svg\" alt=\"Open In Colab\"/></a>"
      ]
    },
    {
      "cell_type": "markdown",
      "metadata": {
        "id": "RE_Tbbpk9F7x",
        "colab_type": "text"
      },
      "source": [
        "# Using Natural Language Processing for Tagalog Fake News Detection\n",
        "The purpose of this study is to train and apply a machine learning model for the detection of fake Filipino news articles on the internet. This study also aims to test accuracy of the trained machine learning model in differentiating real and fake news.\n",
        "\n",
        "---\n",
        "\n",
        "\n",
        "**Objectives:**\n",
        "1.\tTo test the classification model’s performance in terms of: \n",
        "\n",
        "  a.\taccuracy, \n",
        "\n",
        "  b.\trecall, and \n",
        "\n",
        "  c.\tf1 score.\n",
        "2.\tTo determine the words that have a high frequency of occurring on Filipino\n",
        "fake news and real news.\n",
        "3.\tTo determine the viability of the machine learning model for and development. (Accuracy > 90%)\n",
        "\n",
        "**Research Questions**\n",
        "\n",
        "Is there a significant difference between the classification model's predictions and actual (test) values?\n",
        "\n",
        "*Sub-questions:*\n",
        "1.\tIs there a significant difference in the accuracy metrics for the train and test dataset? \n",
        "2.\tHow does the classification model perform in terms of accuracy, recall, accuracy, and f1 score? \n",
        "3.\tWhich words have the highest frequencies in fake Filipino news?\n",
        "4.\tWhich words have the highest frequencies in occurring sarcastic headlines?\n",
        "\n",
        "\n",
        "**Multinomial Naive Bayes Approach**\n",
        "\n",
        "$$P (Fake\\,News \\, | \\, X) \\, > \\, P(Real \\, News \\, | \\, X)$$\n",
        "<br>\n",
        "<center><b>OR</b></center>\n",
        "<br>\n",
        "$$P (Fake\\,News \\, | \\, X) \\, < \\, P(Real \\, News \\, | \\, X)$$\n",
        "\n"
      ]
    },
    {
      "cell_type": "markdown",
      "metadata": {
        "id": "5XbdpO0E_qVd",
        "colab_type": "text"
      },
      "source": [
        "# Imports"
      ]
    },
    {
      "cell_type": "code",
      "metadata": {
        "id": "CDtmHP7a859i",
        "colab_type": "code",
        "colab": {}
      },
      "source": [
        "import numpy as np\n",
        "import pandas as pd\n",
        "\n",
        "from sklearn.feature_extraction.text import CountVectorizer\n",
        "from sklearn.model_selection import train_test_split\n",
        "from sklearn.naive_bayes import MultinomialNB\n",
        "from sklearn.feature_extraction import text\n",
        "from sklearn.metrics import recall_score, precision_score, f1_score\n",
        "from sklearn.ensemble import AdaBoostClassifier\n",
        "from sklearn.linear_model import LogisticRegression"
      ],
      "execution_count": 1,
      "outputs": []
    },
    {
      "cell_type": "code",
      "metadata": {
        "id": "aHxED0rt_xyp",
        "colab_type": "code",
        "colab": {}
      },
      "source": [
        ""
      ],
      "execution_count": null,
      "outputs": []
    }
  ]
}